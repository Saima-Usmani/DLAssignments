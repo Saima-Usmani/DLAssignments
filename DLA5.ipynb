{
  "nbformat": 4,
  "nbformat_minor": 0,
  "metadata": {
    "colab": {
      "name": "DLA5.ipynb",
      "provenance": [],
      "collapsed_sections": []
    },
    "kernelspec": {
      "name": "python3",
      "display_name": "Python 3"
    },
    "language_info": {
      "name": "python"
    }
  },
  "cells": [
    {
      "cell_type": "code",
      "metadata": {
        "id": "vErpa2CsfiEY"
      },
      "source": [
        "import pandas as pd\n",
        "import numpy as np"
      ],
      "execution_count": null,
      "outputs": []
    },
    {
      "cell_type": "code",
      "metadata": {
        "colab": {
          "resources": {
            "http://localhost:8080/nbextensions/google.colab/files.js": {
              "data": "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",
              "ok": true,
              "headers": [
                [
                  "content-type",
                  "application/javascript"
                ]
              ],
              "status": 200,
              "status_text": ""
            }
          },
          "base_uri": "https://localhost:8080/",
          "height": 73
        },
        "id": "L2lsr-GHfpoT",
        "outputId": "954c85d5-f55b-495f-8b9a-9b228c7ef5c7"
      },
      "source": [
        "from google.colab import  files\n",
        "uploaded = files.upload()"
      ],
      "execution_count": null,
      "outputs": [
        {
          "output_type": "display_data",
          "data": {
            "text/html": [
              "\n",
              "     <input type=\"file\" id=\"files-2be1422d-5e62-442d-aa83-d80da3dcd645\" name=\"files[]\" multiple disabled\n",
              "        style=\"border:none\" />\n",
              "     <output id=\"result-2be1422d-5e62-442d-aa83-d80da3dcd645\">\n",
              "      Upload widget is only available when the cell has been executed in the\n",
              "      current browser session. Please rerun this cell to enable.\n",
              "      </output>\n",
              "      <script src=\"/nbextensions/google.colab/files.js\"></script> "
            ],
            "text/plain": [
              "<IPython.core.display.HTML object>"
            ]
          },
          "metadata": {
            "tags": []
          }
        },
        {
          "output_type": "stream",
          "text": [
            "Saving ionosphere_data.csv to ionosphere_data.csv\n"
          ],
          "name": "stdout"
        }
      ]
    },
    {
      "cell_type": "code",
      "metadata": {
        "id": "ZhpTY1cOfpqF"
      },
      "source": [
        "isphere=pd.read_csv(\"ionosphere_data.csv\")"
      ],
      "execution_count": null,
      "outputs": []
    },
    {
      "cell_type": "code",
      "metadata": {
        "id": "jMkDhVdifps1"
      },
      "source": [
        "isphere.isnull().sum()"
      ],
      "execution_count": null,
      "outputs": []
    },
    {
      "cell_type": "code",
      "metadata": {
        "id": "juk8gn7Ofpwi"
      },
      "source": [
        "from sklearn.model_selection import train_test_split\n",
        "from sklearn.preprocessing import MinMaxScaler\n",
        "from sklearn.preprocessing import LabelEncoder\n",
        "min_max_scaler = MinMaxScaler()\n",
        "le=LabelEncoder()"
      ],
      "execution_count": null,
      "outputs": []
    },
    {
      "cell_type": "code",
      "metadata": {
        "id": "hJowqGRHgrNS"
      },
      "source": [
        "#scale all values other than last column\n",
        "isphere.iloc[:,:-1]=min_max_scaler.fit_transform(isphere.iloc[:,:-1])"
      ],
      "execution_count": null,
      "outputs": []
    },
    {
      "cell_type": "code",
      "metadata": {
        "id": "c60kl1pchZQJ"
      },
      "source": [
        "isphere"
      ],
      "execution_count": null,
      "outputs": []
    },
    {
      "cell_type": "code",
      "metadata": {
        "id": "xTXTSCpxgrPK"
      },
      "source": [
        "#encode target\n",
        "isphere['label']=le.fit_transform(isphere['label'])"
      ],
      "execution_count": null,
      "outputs": []
    },
    {
      "cell_type": "code",
      "metadata": {
        "id": "fXc69nK2grSC"
      },
      "source": [
        "# split into input and output columns\n",
        "X, Y = isphere.values[:, :-1], isphere.values[:, -1]\n",
        "# split into train and test datasets\n",
        "X_train, X_test, Y_train, Y_test = train_test_split(X, Y, test_size=0.4)\n",
        "# determine the number of input features\n",
        "n_features = X.shape[1]"
      ],
      "execution_count": null,
      "outputs": []
    },
    {
      "cell_type": "code",
      "metadata": {
        "colab": {
          "base_uri": "https://localhost:8080/"
        },
        "id": "TaRFD1GOgrUk",
        "outputId": "8d49fb15-8d6e-4cb8-9b28-edd0e4d0f164"
      },
      "source": [
        "len(X_train),len(X_test)"
      ],
      "execution_count": null,
      "outputs": [
        {
          "output_type": "execute_result",
          "data": {
            "text/plain": [
              "(210, 141)"
            ]
          },
          "metadata": {
            "tags": []
          },
          "execution_count": 18
        }
      ]
    },
    {
      "cell_type": "code",
      "metadata": {
        "id": "kQQD91DPgrXe"
      },
      "source": [
        "from keras.models import Sequential\n",
        "from keras.layers import Dense"
      ],
      "execution_count": null,
      "outputs": []
    },
    {
      "cell_type": "code",
      "metadata": {
        "id": "yNBGVNP3graX"
      },
      "source": [
        "# create model\n",
        "model = Sequential()\n",
        "model.add(Dense(16, input_dim=n_features, activation='relu'))\n",
        "model.add(Dense(8, activation='tanh'))\n",
        "model.add(Dense(1, activation='sigmoid'))\n"
      ],
      "execution_count": null,
      "outputs": []
    },
    {
      "cell_type": "code",
      "metadata": {
        "id": "9DnLqQHDgrdF"
      },
      "source": [
        "\t# Compile model\n",
        "\tmodel.compile(loss='binary_crossentropy', optimizer='adam', metrics=['accuracy'])"
      ],
      "execution_count": null,
      "outputs": []
    },
    {
      "cell_type": "code",
      "metadata": {
        "colab": {
          "base_uri": "https://localhost:8080/"
        },
        "id": "pC0JTK64ir4S",
        "outputId": "3a44a5e2-3800-4ec8-f5d5-eb9a0fb53aed"
      },
      "source": [
        "# fit the model\n",
        "history = model.fit(X_train, Y_train, epochs=100, batch_size=32, verbose=2)"
      ],
      "execution_count": null,
      "outputs": [
        {
          "output_type": "stream",
          "text": [
            "Epoch 1/100\n",
            "7/7 - 0s - loss: 0.1532 - accuracy: 0.9571\n",
            "Epoch 2/100\n",
            "7/7 - 0s - loss: 0.1480 - accuracy: 0.9571\n",
            "Epoch 3/100\n",
            "7/7 - 0s - loss: 0.1456 - accuracy: 0.9714\n",
            "Epoch 4/100\n",
            "7/7 - 0s - loss: 0.1426 - accuracy: 0.9714\n",
            "Epoch 5/100\n",
            "7/7 - 0s - loss: 0.1394 - accuracy: 0.9667\n",
            "Epoch 6/100\n",
            "7/7 - 0s - loss: 0.1360 - accuracy: 0.9714\n",
            "Epoch 7/100\n",
            "7/7 - 0s - loss: 0.1349 - accuracy: 0.9619\n",
            "Epoch 8/100\n",
            "7/7 - 0s - loss: 0.1312 - accuracy: 0.9714\n",
            "Epoch 9/100\n",
            "7/7 - 0s - loss: 0.1280 - accuracy: 0.9714\n",
            "Epoch 10/100\n",
            "7/7 - 0s - loss: 0.1274 - accuracy: 0.9667\n",
            "Epoch 11/100\n",
            "7/7 - 0s - loss: 0.1264 - accuracy: 0.9714\n",
            "Epoch 12/100\n",
            "7/7 - 0s - loss: 0.1234 - accuracy: 0.9714\n",
            "Epoch 13/100\n",
            "7/7 - 0s - loss: 0.1210 - accuracy: 0.9714\n",
            "Epoch 14/100\n",
            "7/7 - 0s - loss: 0.1187 - accuracy: 0.9714\n",
            "Epoch 15/100\n",
            "7/7 - 0s - loss: 0.1156 - accuracy: 0.9714\n",
            "Epoch 16/100\n",
            "7/7 - 0s - loss: 0.1147 - accuracy: 0.9762\n",
            "Epoch 17/100\n",
            "7/7 - 0s - loss: 0.1117 - accuracy: 0.9714\n",
            "Epoch 18/100\n",
            "7/7 - 0s - loss: 0.1103 - accuracy: 0.9714\n",
            "Epoch 19/100\n",
            "7/7 - 0s - loss: 0.1074 - accuracy: 0.9714\n",
            "Epoch 20/100\n",
            "7/7 - 0s - loss: 0.1056 - accuracy: 0.9714\n",
            "Epoch 21/100\n",
            "7/7 - 0s - loss: 0.1027 - accuracy: 0.9810\n",
            "Epoch 22/100\n",
            "7/7 - 0s - loss: 0.1011 - accuracy: 0.9810\n",
            "Epoch 23/100\n",
            "7/7 - 0s - loss: 0.0992 - accuracy: 0.9810\n",
            "Epoch 24/100\n",
            "7/7 - 0s - loss: 0.0989 - accuracy: 0.9762\n",
            "Epoch 25/100\n",
            "7/7 - 0s - loss: 0.0970 - accuracy: 0.9810\n",
            "Epoch 26/100\n",
            "7/7 - 0s - loss: 0.0964 - accuracy: 0.9762\n",
            "Epoch 27/100\n",
            "7/7 - 0s - loss: 0.0941 - accuracy: 0.9762\n",
            "Epoch 28/100\n",
            "7/7 - 0s - loss: 0.0919 - accuracy: 0.9810\n",
            "Epoch 29/100\n",
            "7/7 - 0s - loss: 0.0897 - accuracy: 0.9810\n",
            "Epoch 30/100\n",
            "7/7 - 0s - loss: 0.0946 - accuracy: 0.9762\n",
            "Epoch 31/100\n",
            "7/7 - 0s - loss: 0.0870 - accuracy: 0.9810\n",
            "Epoch 32/100\n",
            "7/7 - 0s - loss: 0.0863 - accuracy: 0.9810\n",
            "Epoch 33/100\n",
            "7/7 - 0s - loss: 0.0849 - accuracy: 0.9810\n",
            "Epoch 34/100\n",
            "7/7 - 0s - loss: 0.0832 - accuracy: 0.9810\n",
            "Epoch 35/100\n",
            "7/7 - 0s - loss: 0.0807 - accuracy: 0.9810\n",
            "Epoch 36/100\n",
            "7/7 - 0s - loss: 0.0793 - accuracy: 0.9810\n",
            "Epoch 37/100\n",
            "7/7 - 0s - loss: 0.0779 - accuracy: 0.9810\n",
            "Epoch 38/100\n",
            "7/7 - 0s - loss: 0.0770 - accuracy: 0.9810\n",
            "Epoch 39/100\n",
            "7/7 - 0s - loss: 0.0774 - accuracy: 0.9810\n",
            "Epoch 40/100\n",
            "7/7 - 0s - loss: 0.0766 - accuracy: 0.9810\n",
            "Epoch 41/100\n",
            "7/7 - 0s - loss: 0.0750 - accuracy: 0.9810\n",
            "Epoch 42/100\n",
            "7/7 - 0s - loss: 0.0733 - accuracy: 0.9810\n",
            "Epoch 43/100\n",
            "7/7 - 0s - loss: 0.0709 - accuracy: 0.9810\n",
            "Epoch 44/100\n",
            "7/7 - 0s - loss: 0.0720 - accuracy: 0.9810\n",
            "Epoch 45/100\n",
            "7/7 - 0s - loss: 0.0686 - accuracy: 0.9810\n",
            "Epoch 46/100\n",
            "7/7 - 0s - loss: 0.0677 - accuracy: 0.9905\n",
            "Epoch 47/100\n",
            "7/7 - 0s - loss: 0.0674 - accuracy: 0.9905\n",
            "Epoch 48/100\n",
            "7/7 - 0s - loss: 0.0667 - accuracy: 0.9857\n",
            "Epoch 49/100\n",
            "7/7 - 0s - loss: 0.0639 - accuracy: 0.9857\n",
            "Epoch 50/100\n",
            "7/7 - 0s - loss: 0.0657 - accuracy: 0.9810\n",
            "Epoch 51/100\n",
            "7/7 - 0s - loss: 0.0633 - accuracy: 0.9810\n",
            "Epoch 52/100\n",
            "7/7 - 0s - loss: 0.0624 - accuracy: 0.9810\n",
            "Epoch 53/100\n",
            "7/7 - 0s - loss: 0.0647 - accuracy: 0.9905\n",
            "Epoch 54/100\n",
            "7/7 - 0s - loss: 0.0592 - accuracy: 0.9810\n",
            "Epoch 55/100\n",
            "7/7 - 0s - loss: 0.0603 - accuracy: 0.9810\n",
            "Epoch 56/100\n",
            "7/7 - 0s - loss: 0.0586 - accuracy: 0.9952\n",
            "Epoch 57/100\n",
            "7/7 - 0s - loss: 0.0563 - accuracy: 0.9905\n",
            "Epoch 58/100\n",
            "7/7 - 0s - loss: 0.0564 - accuracy: 0.9905\n",
            "Epoch 59/100\n",
            "7/7 - 0s - loss: 0.0545 - accuracy: 0.9905\n",
            "Epoch 60/100\n",
            "7/7 - 0s - loss: 0.0537 - accuracy: 0.9905\n",
            "Epoch 61/100\n",
            "7/7 - 0s - loss: 0.0535 - accuracy: 0.9952\n",
            "Epoch 62/100\n",
            "7/7 - 0s - loss: 0.0524 - accuracy: 0.9952\n",
            "Epoch 63/100\n",
            "7/7 - 0s - loss: 0.0514 - accuracy: 0.9952\n",
            "Epoch 64/100\n",
            "7/7 - 0s - loss: 0.0513 - accuracy: 0.9952\n",
            "Epoch 65/100\n",
            "7/7 - 0s - loss: 0.0521 - accuracy: 0.9905\n",
            "Epoch 66/100\n",
            "7/7 - 0s - loss: 0.0494 - accuracy: 0.9952\n",
            "Epoch 67/100\n",
            "7/7 - 0s - loss: 0.0499 - accuracy: 0.9952\n",
            "Epoch 68/100\n",
            "7/7 - 0s - loss: 0.0512 - accuracy: 0.9905\n",
            "Epoch 69/100\n",
            "7/7 - 0s - loss: 0.0485 - accuracy: 0.9905\n",
            "Epoch 70/100\n",
            "7/7 - 0s - loss: 0.0465 - accuracy: 0.9952\n",
            "Epoch 71/100\n",
            "7/7 - 0s - loss: 0.0453 - accuracy: 0.9952\n",
            "Epoch 72/100\n",
            "7/7 - 0s - loss: 0.0463 - accuracy: 0.9952\n",
            "Epoch 73/100\n",
            "7/7 - 0s - loss: 0.0511 - accuracy: 0.9952\n",
            "Epoch 74/100\n",
            "7/7 - 0s - loss: 0.0433 - accuracy: 0.9952\n",
            "Epoch 75/100\n",
            "7/7 - 0s - loss: 0.0433 - accuracy: 0.9952\n",
            "Epoch 76/100\n",
            "7/7 - 0s - loss: 0.0434 - accuracy: 0.9952\n",
            "Epoch 77/100\n",
            "7/7 - 0s - loss: 0.0418 - accuracy: 0.9952\n",
            "Epoch 78/100\n",
            "7/7 - 0s - loss: 0.0411 - accuracy: 0.9952\n",
            "Epoch 79/100\n",
            "7/7 - 0s - loss: 0.0406 - accuracy: 0.9952\n",
            "Epoch 80/100\n",
            "7/7 - 0s - loss: 0.0392 - accuracy: 0.9952\n",
            "Epoch 81/100\n",
            "7/7 - 0s - loss: 0.0393 - accuracy: 0.9952\n",
            "Epoch 82/100\n",
            "7/7 - 0s - loss: 0.0392 - accuracy: 0.9952\n",
            "Epoch 83/100\n",
            "7/7 - 0s - loss: 0.0381 - accuracy: 0.9952\n",
            "Epoch 84/100\n",
            "7/7 - 0s - loss: 0.0387 - accuracy: 0.9952\n",
            "Epoch 85/100\n",
            "7/7 - 0s - loss: 0.0373 - accuracy: 0.9952\n",
            "Epoch 86/100\n",
            "7/7 - 0s - loss: 0.0380 - accuracy: 0.9952\n",
            "Epoch 87/100\n",
            "7/7 - 0s - loss: 0.0391 - accuracy: 0.9952\n",
            "Epoch 88/100\n",
            "7/7 - 0s - loss: 0.0372 - accuracy: 0.9952\n",
            "Epoch 89/100\n",
            "7/7 - 0s - loss: 0.0350 - accuracy: 0.9952\n",
            "Epoch 90/100\n",
            "7/7 - 0s - loss: 0.0354 - accuracy: 0.9952\n",
            "Epoch 91/100\n",
            "7/7 - 0s - loss: 0.0370 - accuracy: 0.9952\n",
            "Epoch 92/100\n",
            "7/7 - 0s - loss: 0.0369 - accuracy: 0.9952\n",
            "Epoch 93/100\n",
            "7/7 - 0s - loss: 0.0331 - accuracy: 0.9952\n",
            "Epoch 94/100\n",
            "7/7 - 0s - loss: 0.0344 - accuracy: 0.9952\n",
            "Epoch 95/100\n",
            "7/7 - 0s - loss: 0.0336 - accuracy: 0.9952\n",
            "Epoch 96/100\n",
            "7/7 - 0s - loss: 0.0335 - accuracy: 0.9952\n",
            "Epoch 97/100\n",
            "7/7 - 0s - loss: 0.0315 - accuracy: 0.9952\n",
            "Epoch 98/100\n",
            "7/7 - 0s - loss: 0.0311 - accuracy: 0.9952\n",
            "Epoch 99/100\n",
            "7/7 - 0s - loss: 0.0307 - accuracy: 0.9952\n",
            "Epoch 100/100\n",
            "7/7 - 0s - loss: 0.0302 - accuracy: 0.9952\n"
          ],
          "name": "stdout"
        }
      ]
    },
    {
      "cell_type": "code",
      "metadata": {
        "id": "Ki_GLxEvir6N"
      },
      "source": [
        ""
      ],
      "execution_count": null,
      "outputs": []
    },
    {
      "cell_type": "code",
      "metadata": {
        "colab": {
          "base_uri": "https://localhost:8080/"
        },
        "id": "FoGKDfwFir9F",
        "outputId": "74ec294d-e06f-4571-9142-5c4e1076aee9"
      },
      "source": [
        "from sklearn.metrics import accuracy_score\n",
        "\n",
        "# predict test set\n",
        "pred = model.predict_classes(X_test)\n",
        "# evaluate predictions\n",
        "score = accuracy_score(Y_test, pred)\n",
        "print(score)"
      ],
      "execution_count": null,
      "outputs": [
        {
          "output_type": "stream",
          "text": [
            "0.9432624113475178\n"
          ],
          "name": "stdout"
        },
        {
          "output_type": "stream",
          "text": [
            "/usr/local/lib/python3.7/dist-packages/tensorflow/python/keras/engine/sequential.py:450: UserWarning: `model.predict_classes()` is deprecated and will be removed after 2021-01-01. Please use instead:* `np.argmax(model.predict(x), axis=-1)`,   if your model does multi-class classification   (e.g. if it uses a `softmax` last-layer activation).* `(model.predict(x) > 0.5).astype(\"int32\")`,   if your model does binary classification   (e.g. if it uses a `sigmoid` last-layer activation).\n",
            "  warnings.warn('`model.predict_classes()` is deprecated and '\n"
          ],
          "name": "stderr"
        }
      ]
    },
    {
      "cell_type": "code",
      "metadata": {
        "id": "GzH_xFO5isAd"
      },
      "source": [
        ""
      ],
      "execution_count": null,
      "outputs": []
    },
    {
      "cell_type": "code",
      "metadata": {
        "id": "TXkQj1KTgrgw"
      },
      "source": [
        ""
      ],
      "execution_count": null,
      "outputs": []
    }
  ]
}