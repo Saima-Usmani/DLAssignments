{
  "nbformat": 4,
  "nbformat_minor": 0,
  "metadata": {
    "colab": {
      "name": "DLA3.ipynb",
      "provenance": [],
      "collapsed_sections": []
    },
    "kernelspec": {
      "name": "python3",
      "display_name": "Python 3"
    },
    "language_info": {
      "name": "python"
    }
  },
  "cells": [
    {
      "cell_type": "code",
      "metadata": {
        "id": "g1_ErN7JRxKW"
      },
      "source": [
        "import pandas as pd\n",
        "import numpy as np"
      ],
      "execution_count": 7,
      "outputs": []
    },
    {
      "cell_type": "code",
      "metadata": {
        "id": "uPVEseB0R2eA"
      },
      "source": [
        "#from google.colab import  files\n",
        "#uploaded = files.upload()"
      ],
      "execution_count": 8,
      "outputs": []
    },
    {
      "cell_type": "code",
      "metadata": {
        "id": "Zz4ZMlVS919P",
        "colab": {
          "base_uri": "https://localhost:8080/"
        },
        "outputId": "f9c87f1d-5716-45cd-8e54-791a4de30f2c"
      },
      "source": [
        "from google.colab import drive\n",
        "drive.mount('/content/gdrive')"
      ],
      "execution_count": 4,
      "outputs": [
        {
          "output_type": "stream",
          "text": [
            "Mounted at /content/gdrive\n"
          ],
          "name": "stdout"
        }
      ]
    },
    {
      "cell_type": "code",
      "metadata": {
        "id": "6VgiP-Z4R2f6"
      },
      "source": [
        "#Ccard=pd.read_csv(\"creditcard.csv\")\n",
        "\n",
        "Ccard=pd.read_csv(\"gdrive/MyDrive/creditcard.csv\")"
      ],
      "execution_count": 5,
      "outputs": []
    },
    {
      "cell_type": "code",
      "metadata": {
        "id": "fUuUIBpjR2ip"
      },
      "source": [
        "Ccard.isnull().sum()"
      ],
      "execution_count": null,
      "outputs": []
    },
    {
      "cell_type": "code",
      "metadata": {
        "colab": {
          "base_uri": "https://localhost:8080/"
        },
        "id": "Gj3dq0sRR2lb",
        "outputId": "00d4dcfa-3a76-48c1-a84a-28fe3907dc78"
      },
      "source": [
        "Ccard.info()"
      ],
      "execution_count": null,
      "outputs": [
        {
          "output_type": "stream",
          "text": [
            "<class 'pandas.core.frame.DataFrame'>\n",
            "RangeIndex: 38000 entries, 0 to 37999\n",
            "Data columns (total 31 columns):\n",
            " #   Column  Non-Null Count  Dtype  \n",
            "---  ------  --------------  -----  \n",
            " 0   Time    38000 non-null  int64  \n",
            " 1   V1      38000 non-null  float64\n",
            " 2   V2      38000 non-null  float64\n",
            " 3   V3      38000 non-null  float64\n",
            " 4   V4      38000 non-null  float64\n",
            " 5   V5      38000 non-null  float64\n",
            " 6   V6      38000 non-null  float64\n",
            " 7   V7      38000 non-null  float64\n",
            " 8   V8      38000 non-null  float64\n",
            " 9   V9      38000 non-null  float64\n",
            " 10  V10     38000 non-null  float64\n",
            " 11  V11     38000 non-null  float64\n",
            " 12  V12     38000 non-null  float64\n",
            " 13  V13     38000 non-null  float64\n",
            " 14  V14     38000 non-null  float64\n",
            " 15  V15     38000 non-null  float64\n",
            " 16  V16     38000 non-null  float64\n",
            " 17  V17     38000 non-null  float64\n",
            " 18  V18     38000 non-null  float64\n",
            " 19  V19     38000 non-null  float64\n",
            " 20  V20     38000 non-null  float64\n",
            " 21  V21     38000 non-null  float64\n",
            " 22  V22     38000 non-null  float64\n",
            " 23  V23     38000 non-null  float64\n",
            " 24  V24     38000 non-null  float64\n",
            " 25  V25     38000 non-null  float64\n",
            " 26  V26     37999 non-null  float64\n",
            " 27  V27     37999 non-null  float64\n",
            " 28  V28     37999 non-null  float64\n",
            " 29  Amount  37999 non-null  float64\n",
            " 30  Class   37999 non-null  float64\n",
            "dtypes: float64(30), int64(1)\n",
            "memory usage: 9.0 MB\n"
          ],
          "name": "stdout"
        }
      ]
    },
    {
      "cell_type": "code",
      "metadata": {
        "colab": {
          "base_uri": "https://localhost:8080/",
          "height": 158
        },
        "id": "vebJyQQdR2n9",
        "outputId": "4fb6a2ec-1724-4dfb-9d53-665ad3128157"
      },
      "source": [
        "Ccard.head(3)"
      ],
      "execution_count": null,
      "outputs": [
        {
          "output_type": "execute_result",
          "data": {
            "text/html": [
              "<div>\n",
              "<style scoped>\n",
              "    .dataframe tbody tr th:only-of-type {\n",
              "        vertical-align: middle;\n",
              "    }\n",
              "\n",
              "    .dataframe tbody tr th {\n",
              "        vertical-align: top;\n",
              "    }\n",
              "\n",
              "    .dataframe thead th {\n",
              "        text-align: right;\n",
              "    }\n",
              "</style>\n",
              "<table border=\"1\" class=\"dataframe\">\n",
              "  <thead>\n",
              "    <tr style=\"text-align: right;\">\n",
              "      <th></th>\n",
              "      <th>Time</th>\n",
              "      <th>V1</th>\n",
              "      <th>V2</th>\n",
              "      <th>V3</th>\n",
              "      <th>V4</th>\n",
              "      <th>V5</th>\n",
              "      <th>V6</th>\n",
              "      <th>V7</th>\n",
              "      <th>V8</th>\n",
              "      <th>V9</th>\n",
              "      <th>V10</th>\n",
              "      <th>V11</th>\n",
              "      <th>V12</th>\n",
              "      <th>V13</th>\n",
              "      <th>V14</th>\n",
              "      <th>V15</th>\n",
              "      <th>V16</th>\n",
              "      <th>V17</th>\n",
              "      <th>V18</th>\n",
              "      <th>V19</th>\n",
              "      <th>V20</th>\n",
              "      <th>V21</th>\n",
              "      <th>V22</th>\n",
              "      <th>V23</th>\n",
              "      <th>V24</th>\n",
              "      <th>V25</th>\n",
              "      <th>V26</th>\n",
              "      <th>V27</th>\n",
              "      <th>V28</th>\n",
              "      <th>Amount</th>\n",
              "      <th>Class</th>\n",
              "    </tr>\n",
              "  </thead>\n",
              "  <tbody>\n",
              "    <tr>\n",
              "      <th>0</th>\n",
              "      <td>0</td>\n",
              "      <td>-1.359807</td>\n",
              "      <td>-0.072781</td>\n",
              "      <td>2.536347</td>\n",
              "      <td>1.378155</td>\n",
              "      <td>-0.338321</td>\n",
              "      <td>0.462388</td>\n",
              "      <td>0.239599</td>\n",
              "      <td>0.098698</td>\n",
              "      <td>0.363787</td>\n",
              "      <td>0.090794</td>\n",
              "      <td>-0.551600</td>\n",
              "      <td>-0.617801</td>\n",
              "      <td>-0.991390</td>\n",
              "      <td>-0.311169</td>\n",
              "      <td>1.468177</td>\n",
              "      <td>-0.470401</td>\n",
              "      <td>0.207971</td>\n",
              "      <td>0.025791</td>\n",
              "      <td>0.403993</td>\n",
              "      <td>0.251412</td>\n",
              "      <td>-0.018307</td>\n",
              "      <td>0.277838</td>\n",
              "      <td>-0.110474</td>\n",
              "      <td>0.066928</td>\n",
              "      <td>0.128539</td>\n",
              "      <td>-0.189115</td>\n",
              "      <td>0.133558</td>\n",
              "      <td>-0.021053</td>\n",
              "      <td>149.62</td>\n",
              "      <td>0.0</td>\n",
              "    </tr>\n",
              "    <tr>\n",
              "      <th>1</th>\n",
              "      <td>0</td>\n",
              "      <td>1.191857</td>\n",
              "      <td>0.266151</td>\n",
              "      <td>0.166480</td>\n",
              "      <td>0.448154</td>\n",
              "      <td>0.060018</td>\n",
              "      <td>-0.082361</td>\n",
              "      <td>-0.078803</td>\n",
              "      <td>0.085102</td>\n",
              "      <td>-0.255425</td>\n",
              "      <td>-0.166974</td>\n",
              "      <td>1.612727</td>\n",
              "      <td>1.065235</td>\n",
              "      <td>0.489095</td>\n",
              "      <td>-0.143772</td>\n",
              "      <td>0.635558</td>\n",
              "      <td>0.463917</td>\n",
              "      <td>-0.114805</td>\n",
              "      <td>-0.183361</td>\n",
              "      <td>-0.145783</td>\n",
              "      <td>-0.069083</td>\n",
              "      <td>-0.225775</td>\n",
              "      <td>-0.638672</td>\n",
              "      <td>0.101288</td>\n",
              "      <td>-0.339846</td>\n",
              "      <td>0.167170</td>\n",
              "      <td>0.125895</td>\n",
              "      <td>-0.008983</td>\n",
              "      <td>0.014724</td>\n",
              "      <td>2.69</td>\n",
              "      <td>0.0</td>\n",
              "    </tr>\n",
              "    <tr>\n",
              "      <th>2</th>\n",
              "      <td>1</td>\n",
              "      <td>-1.358354</td>\n",
              "      <td>-1.340163</td>\n",
              "      <td>1.773209</td>\n",
              "      <td>0.379780</td>\n",
              "      <td>-0.503198</td>\n",
              "      <td>1.800499</td>\n",
              "      <td>0.791461</td>\n",
              "      <td>0.247676</td>\n",
              "      <td>-1.514654</td>\n",
              "      <td>0.207643</td>\n",
              "      <td>0.624501</td>\n",
              "      <td>0.066084</td>\n",
              "      <td>0.717293</td>\n",
              "      <td>-0.165946</td>\n",
              "      <td>2.345865</td>\n",
              "      <td>-2.890083</td>\n",
              "      <td>1.109969</td>\n",
              "      <td>-0.121359</td>\n",
              "      <td>-2.261857</td>\n",
              "      <td>0.524980</td>\n",
              "      <td>0.247998</td>\n",
              "      <td>0.771679</td>\n",
              "      <td>0.909412</td>\n",
              "      <td>-0.689281</td>\n",
              "      <td>-0.327642</td>\n",
              "      <td>-0.139097</td>\n",
              "      <td>-0.055353</td>\n",
              "      <td>-0.059752</td>\n",
              "      <td>378.66</td>\n",
              "      <td>0.0</td>\n",
              "    </tr>\n",
              "  </tbody>\n",
              "</table>\n",
              "</div>"
            ],
            "text/plain": [
              "   Time        V1        V2        V3  ...       V27       V28  Amount  Class\n",
              "0     0 -1.359807 -0.072781  2.536347  ...  0.133558 -0.021053  149.62    0.0\n",
              "1     0  1.191857  0.266151  0.166480  ... -0.008983  0.014724    2.69    0.0\n",
              "2     1 -1.358354 -1.340163  1.773209  ... -0.055353 -0.059752  378.66    0.0\n",
              "\n",
              "[3 rows x 31 columns]"
            ]
          },
          "metadata": {
            "tags": []
          },
          "execution_count": 6
        }
      ]
    },
    {
      "cell_type": "code",
      "metadata": {
        "id": "S10T-_sGR2ql"
      },
      "source": [
        "from sklearn.preprocessing import MinMaxScaler\n",
        "\n",
        "min_max_scaler = MinMaxScaler()\n",
        "#scale all values other than last column\n",
        "Ccard.iloc[:,:-1]=min_max_scaler.fit_transform(Ccard.iloc[:,:-1])"
      ],
      "execution_count": 9,
      "outputs": []
    },
    {
      "cell_type": "code",
      "metadata": {
        "id": "zbX35IfTvQqu"
      },
      "source": [
        "from sklearn.preprocessing import LabelEncoder\n",
        "min_max_scaler = MinMaxScaler()\n",
        "le=LabelEncoder()\n",
        "\n",
        "\n",
        "#encode target\n",
        "Ccard['Class']=le.fit_transform(Ccard['Class'])\n"
      ],
      "execution_count": 11,
      "outputs": []
    },
    {
      "cell_type": "code",
      "metadata": {
        "colab": {
          "base_uri": "https://localhost:8080/"
        },
        "id": "vuM1E1QJR2tU",
        "outputId": "9a4dfe2a-ba5a-49e4-f48a-72cd0aba9776"
      },
      "source": [
        "from sklearn.model_selection import train_test_split\n",
        "\n",
        "# split into input and output columns\n",
        "X, Y = Ccard.values[:, :-1], Ccard.values[:, -1]\n",
        "# split into train and test datasets\n",
        "XX_train, X_test, YY_train, Y_test = train_test_split(X, Y, test_size=0.3)\n",
        "# determine the number of input features\n",
        "n_features = X.shape[1]\n",
        "n_features"
      ],
      "execution_count": 12,
      "outputs": [
        {
          "output_type": "execute_result",
          "data": {
            "text/plain": [
              "30"
            ]
          },
          "metadata": {
            "tags": []
          },
          "execution_count": 12
        }
      ]
    },
    {
      "cell_type": "code",
      "metadata": {
        "colab": {
          "base_uri": "https://localhost:8080/"
        },
        "id": "e6RYgyPCR2wb",
        "outputId": "213a4c8d-37f4-463c-b9cf-3876120b7723"
      },
      "source": [
        "# split into train and validation datasets\n",
        "X_train, X_val, Y_train, Y_val = train_test_split(XX_train, YY_train, test_size=0.3)\n",
        "\n",
        "#Now we have\n",
        "# 50% of data in train set, 30% of data in test set, and 20% of data in validation set\n",
        "print(len(X_train))\n",
        "print(len(X_val))\n",
        "print(len(X_test))"
      ],
      "execution_count": 14,
      "outputs": [
        {
          "output_type": "stream",
          "text": [
            "139554\n",
            "59810\n",
            "85443\n"
          ],
          "name": "stdout"
        }
      ]
    },
    {
      "cell_type": "code",
      "metadata": {
        "id": "EEju2aHCR20H"
      },
      "source": [
        "from sklearn.metrics import accuracy_score\n",
        "\n",
        "from keras.models import Sequential\n",
        "from keras.layers import Dense"
      ],
      "execution_count": 15,
      "outputs": []
    },
    {
      "cell_type": "code",
      "metadata": {
        "id": "PGmgKb9iohig"
      },
      "source": [
        "# create model\n",
        "model = Sequential()\n",
        "model.add(Dense(10, input_dim=n_features, activation='tanh'))\n",
        "model.add(Dense(8, activation='relu'))\n",
        "model.add(Dense(6, activation='relu'))\n",
        "model.add(Dense(1, activation='sigmoid'))\n"
      ],
      "execution_count": 16,
      "outputs": []
    },
    {
      "cell_type": "code",
      "metadata": {
        "id": "GFW9pm82ohlG"
      },
      "source": [
        "# Compile model\n",
        "model.compile(loss='binary_crossentropy', optimizer='adam', metrics=['accuracy'])"
      ],
      "execution_count": 17,
      "outputs": []
    },
    {
      "cell_type": "code",
      "metadata": {
        "colab": {
          "base_uri": "https://localhost:8080/"
        },
        "id": "wmfKf4gHohnm",
        "outputId": "5b597610-eb6c-4d7c-98ec-49afdb25fc42"
      },
      "source": [
        "# fit the model\n",
        "history = model.fit(X_train, Y_train, epochs=100, batch_size=32, verbose=2, validation_data=(X_val,Y_val))"
      ],
      "execution_count": 18,
      "outputs": [
        {
          "output_type": "stream",
          "text": [
            "Epoch 1/100\n",
            "4362/4362 - 5s - loss: 0.0105 - accuracy: 0.9983 - val_loss: 0.0047 - val_accuracy: 0.9987\n",
            "Epoch 2/100\n",
            "4362/4362 - 4s - loss: 0.0046 - accuracy: 0.9991 - val_loss: 0.0040 - val_accuracy: 0.9993\n",
            "Epoch 3/100\n",
            "4362/4362 - 4s - loss: 0.0041 - accuracy: 0.9993 - val_loss: 0.0040 - val_accuracy: 0.9993\n",
            "Epoch 4/100\n",
            "4362/4362 - 4s - loss: 0.0039 - accuracy: 0.9992 - val_loss: 0.0042 - val_accuracy: 0.9993\n",
            "Epoch 5/100\n",
            "4362/4362 - 4s - loss: 0.0038 - accuracy: 0.9993 - val_loss: 0.0037 - val_accuracy: 0.9994\n",
            "Epoch 6/100\n",
            "4362/4362 - 4s - loss: 0.0038 - accuracy: 0.9993 - val_loss: 0.0040 - val_accuracy: 0.9993\n",
            "Epoch 7/100\n",
            "4362/4362 - 4s - loss: 0.0038 - accuracy: 0.9993 - val_loss: 0.0041 - val_accuracy: 0.9993\n",
            "Epoch 8/100\n",
            "4362/4362 - 4s - loss: 0.0037 - accuracy: 0.9993 - val_loss: 0.0037 - val_accuracy: 0.9993\n",
            "Epoch 9/100\n",
            "4362/4362 - 4s - loss: 0.0036 - accuracy: 0.9993 - val_loss: 0.0043 - val_accuracy: 0.9993\n",
            "Epoch 10/100\n",
            "4362/4362 - 4s - loss: 0.0036 - accuracy: 0.9993 - val_loss: 0.0038 - val_accuracy: 0.9994\n",
            "Epoch 11/100\n",
            "4362/4362 - 4s - loss: 0.0035 - accuracy: 0.9993 - val_loss: 0.0038 - val_accuracy: 0.9993\n",
            "Epoch 12/100\n",
            "4362/4362 - 4s - loss: 0.0035 - accuracy: 0.9993 - val_loss: 0.0039 - val_accuracy: 0.9993\n",
            "Epoch 13/100\n",
            "4362/4362 - 4s - loss: 0.0035 - accuracy: 0.9993 - val_loss: 0.0038 - val_accuracy: 0.9993\n",
            "Epoch 14/100\n",
            "4362/4362 - 4s - loss: 0.0037 - accuracy: 0.9993 - val_loss: 0.0038 - val_accuracy: 0.9993\n",
            "Epoch 15/100\n",
            "4362/4362 - 4s - loss: 0.0036 - accuracy: 0.9994 - val_loss: 0.0037 - val_accuracy: 0.9993\n",
            "Epoch 16/100\n",
            "4362/4362 - 4s - loss: 0.0035 - accuracy: 0.9994 - val_loss: 0.0041 - val_accuracy: 0.9993\n",
            "Epoch 17/100\n",
            "4362/4362 - 4s - loss: 0.0035 - accuracy: 0.9993 - val_loss: 0.0045 - val_accuracy: 0.9993\n",
            "Epoch 18/100\n",
            "4362/4362 - 4s - loss: 0.0036 - accuracy: 0.9993 - val_loss: 0.0036 - val_accuracy: 0.9993\n",
            "Epoch 19/100\n",
            "4362/4362 - 4s - loss: 0.0035 - accuracy: 0.9993 - val_loss: 0.0046 - val_accuracy: 0.9992\n",
            "Epoch 20/100\n",
            "4362/4362 - 4s - loss: 0.0035 - accuracy: 0.9994 - val_loss: 0.0037 - val_accuracy: 0.9993\n",
            "Epoch 21/100\n",
            "4362/4362 - 4s - loss: 0.0035 - accuracy: 0.9993 - val_loss: 0.0039 - val_accuracy: 0.9993\n",
            "Epoch 22/100\n",
            "4362/4362 - 4s - loss: 0.0034 - accuracy: 0.9993 - val_loss: 0.0037 - val_accuracy: 0.9993\n",
            "Epoch 23/100\n",
            "4362/4362 - 4s - loss: 0.0034 - accuracy: 0.9994 - val_loss: 0.0035 - val_accuracy: 0.9993\n",
            "Epoch 24/100\n",
            "4362/4362 - 4s - loss: 0.0034 - accuracy: 0.9993 - val_loss: 0.0035 - val_accuracy: 0.9993\n",
            "Epoch 25/100\n",
            "4362/4362 - 4s - loss: 0.0034 - accuracy: 0.9994 - val_loss: 0.0036 - val_accuracy: 0.9993\n",
            "Epoch 26/100\n",
            "4362/4362 - 4s - loss: 0.0033 - accuracy: 0.9994 - val_loss: 0.0037 - val_accuracy: 0.9993\n",
            "Epoch 27/100\n",
            "4362/4362 - 4s - loss: 0.0034 - accuracy: 0.9994 - val_loss: 0.0046 - val_accuracy: 0.9992\n",
            "Epoch 28/100\n",
            "4362/4362 - 4s - loss: 0.0034 - accuracy: 0.9993 - val_loss: 0.0033 - val_accuracy: 0.9993\n",
            "Epoch 29/100\n",
            "4362/4362 - 4s - loss: 0.0034 - accuracy: 0.9993 - val_loss: 0.0034 - val_accuracy: 0.9993\n",
            "Epoch 30/100\n",
            "4362/4362 - 4s - loss: 0.0034 - accuracy: 0.9993 - val_loss: 0.0033 - val_accuracy: 0.9993\n",
            "Epoch 31/100\n",
            "4362/4362 - 4s - loss: 0.0033 - accuracy: 0.9993 - val_loss: 0.0036 - val_accuracy: 0.9994\n",
            "Epoch 32/100\n",
            "4362/4362 - 4s - loss: 0.0034 - accuracy: 0.9993 - val_loss: 0.0033 - val_accuracy: 0.9993\n",
            "Epoch 33/100\n",
            "4362/4362 - 4s - loss: 0.0033 - accuracy: 0.9994 - val_loss: 0.0034 - val_accuracy: 0.9993\n",
            "Epoch 34/100\n",
            "4362/4362 - 4s - loss: 0.0033 - accuracy: 0.9994 - val_loss: 0.0036 - val_accuracy: 0.9993\n",
            "Epoch 35/100\n",
            "4362/4362 - 4s - loss: 0.0033 - accuracy: 0.9994 - val_loss: 0.0033 - val_accuracy: 0.9994\n",
            "Epoch 36/100\n",
            "4362/4362 - 4s - loss: 0.0033 - accuracy: 0.9994 - val_loss: 0.0035 - val_accuracy: 0.9994\n",
            "Epoch 37/100\n",
            "4362/4362 - 4s - loss: 0.0033 - accuracy: 0.9994 - val_loss: 0.0040 - val_accuracy: 0.9993\n",
            "Epoch 38/100\n",
            "4362/4362 - 4s - loss: 0.0033 - accuracy: 0.9993 - val_loss: 0.0034 - val_accuracy: 0.9994\n",
            "Epoch 39/100\n",
            "4362/4362 - 4s - loss: 0.0032 - accuracy: 0.9994 - val_loss: 0.0041 - val_accuracy: 0.9993\n",
            "Epoch 40/100\n",
            "4362/4362 - 4s - loss: 0.0034 - accuracy: 0.9994 - val_loss: 0.0034 - val_accuracy: 0.9993\n",
            "Epoch 41/100\n",
            "4362/4362 - 4s - loss: 0.0033 - accuracy: 0.9993 - val_loss: 0.0035 - val_accuracy: 0.9993\n",
            "Epoch 42/100\n",
            "4362/4362 - 4s - loss: 0.0032 - accuracy: 0.9994 - val_loss: 0.0046 - val_accuracy: 0.9993\n",
            "Epoch 43/100\n",
            "4362/4362 - 4s - loss: 0.0033 - accuracy: 0.9993 - val_loss: 0.0034 - val_accuracy: 0.9993\n",
            "Epoch 44/100\n",
            "4362/4362 - 4s - loss: 0.0032 - accuracy: 0.9994 - val_loss: 0.0034 - val_accuracy: 0.9993\n",
            "Epoch 45/100\n",
            "4362/4362 - 4s - loss: 0.0033 - accuracy: 0.9994 - val_loss: 0.0041 - val_accuracy: 0.9993\n",
            "Epoch 46/100\n",
            "4362/4362 - 4s - loss: 0.0034 - accuracy: 0.9993 - val_loss: 0.0043 - val_accuracy: 0.9992\n",
            "Epoch 47/100\n",
            "4362/4362 - 4s - loss: 0.0033 - accuracy: 0.9994 - val_loss: 0.0035 - val_accuracy: 0.9994\n",
            "Epoch 48/100\n",
            "4362/4362 - 4s - loss: 0.0032 - accuracy: 0.9994 - val_loss: 0.0036 - val_accuracy: 0.9993\n",
            "Epoch 49/100\n",
            "4362/4362 - 4s - loss: 0.0033 - accuracy: 0.9994 - val_loss: 0.0036 - val_accuracy: 0.9994\n",
            "Epoch 50/100\n",
            "4362/4362 - 4s - loss: 0.0032 - accuracy: 0.9994 - val_loss: 0.0037 - val_accuracy: 0.9993\n",
            "Epoch 51/100\n",
            "4362/4362 - 4s - loss: 0.0032 - accuracy: 0.9994 - val_loss: 0.0033 - val_accuracy: 0.9994\n",
            "Epoch 52/100\n",
            "4362/4362 - 4s - loss: 0.0033 - accuracy: 0.9994 - val_loss: 0.0034 - val_accuracy: 0.9994\n",
            "Epoch 53/100\n",
            "4362/4362 - 4s - loss: 0.0032 - accuracy: 0.9994 - val_loss: 0.0034 - val_accuracy: 0.9993\n",
            "Epoch 54/100\n",
            "4362/4362 - 4s - loss: 0.0032 - accuracy: 0.9993 - val_loss: 0.0034 - val_accuracy: 0.9993\n",
            "Epoch 55/100\n",
            "4362/4362 - 4s - loss: 0.0032 - accuracy: 0.9994 - val_loss: 0.0037 - val_accuracy: 0.9993\n",
            "Epoch 56/100\n",
            "4362/4362 - 4s - loss: 0.0033 - accuracy: 0.9994 - val_loss: 0.0037 - val_accuracy: 0.9994\n",
            "Epoch 57/100\n",
            "4362/4362 - 4s - loss: 0.0032 - accuracy: 0.9994 - val_loss: 0.0036 - val_accuracy: 0.9993\n",
            "Epoch 58/100\n",
            "4362/4362 - 4s - loss: 0.0032 - accuracy: 0.9994 - val_loss: 0.0035 - val_accuracy: 0.9993\n",
            "Epoch 59/100\n",
            "4362/4362 - 4s - loss: 0.0032 - accuracy: 0.9994 - val_loss: 0.0036 - val_accuracy: 0.9993\n",
            "Epoch 60/100\n",
            "4362/4362 - 4s - loss: 0.0032 - accuracy: 0.9994 - val_loss: 0.0034 - val_accuracy: 0.9993\n",
            "Epoch 61/100\n",
            "4362/4362 - 4s - loss: 0.0031 - accuracy: 0.9994 - val_loss: 0.0033 - val_accuracy: 0.9994\n",
            "Epoch 62/100\n",
            "4362/4362 - 4s - loss: 0.0032 - accuracy: 0.9994 - val_loss: 0.0034 - val_accuracy: 0.9994\n",
            "Epoch 63/100\n",
            "4362/4362 - 4s - loss: 0.0032 - accuracy: 0.9994 - val_loss: 0.0035 - val_accuracy: 0.9994\n",
            "Epoch 64/100\n",
            "4362/4362 - 4s - loss: 0.0031 - accuracy: 0.9994 - val_loss: 0.0034 - val_accuracy: 0.9993\n",
            "Epoch 65/100\n",
            "4362/4362 - 4s - loss: 0.0032 - accuracy: 0.9994 - val_loss: 0.0034 - val_accuracy: 0.9994\n",
            "Epoch 66/100\n",
            "4362/4362 - 4s - loss: 0.0032 - accuracy: 0.9994 - val_loss: 0.0033 - val_accuracy: 0.9993\n",
            "Epoch 67/100\n",
            "4362/4362 - 4s - loss: 0.0031 - accuracy: 0.9994 - val_loss: 0.0036 - val_accuracy: 0.9994\n",
            "Epoch 68/100\n",
            "4362/4362 - 4s - loss: 0.0032 - accuracy: 0.9994 - val_loss: 0.0037 - val_accuracy: 0.9993\n",
            "Epoch 69/100\n",
            "4362/4362 - 4s - loss: 0.0032 - accuracy: 0.9994 - val_loss: 0.0037 - val_accuracy: 0.9994\n",
            "Epoch 70/100\n",
            "4362/4362 - 4s - loss: 0.0032 - accuracy: 0.9994 - val_loss: 0.0037 - val_accuracy: 0.9994\n",
            "Epoch 71/100\n",
            "4362/4362 - 4s - loss: 0.0031 - accuracy: 0.9994 - val_loss: 0.0033 - val_accuracy: 0.9994\n",
            "Epoch 72/100\n",
            "4362/4362 - 4s - loss: 0.0032 - accuracy: 0.9994 - val_loss: 0.0033 - val_accuracy: 0.9994\n",
            "Epoch 73/100\n",
            "4362/4362 - 4s - loss: 0.0031 - accuracy: 0.9994 - val_loss: 0.0035 - val_accuracy: 0.9994\n",
            "Epoch 74/100\n",
            "4362/4362 - 4s - loss: 0.0031 - accuracy: 0.9994 - val_loss: 0.0034 - val_accuracy: 0.9994\n",
            "Epoch 75/100\n",
            "4362/4362 - 4s - loss: 0.0032 - accuracy: 0.9994 - val_loss: 0.0036 - val_accuracy: 0.9994\n",
            "Epoch 76/100\n",
            "4362/4362 - 4s - loss: 0.0032 - accuracy: 0.9994 - val_loss: 0.0033 - val_accuracy: 0.9994\n",
            "Epoch 77/100\n",
            "4362/4362 - 4s - loss: 0.0032 - accuracy: 0.9994 - val_loss: 0.0034 - val_accuracy: 0.9993\n",
            "Epoch 78/100\n",
            "4362/4362 - 4s - loss: 0.0032 - accuracy: 0.9994 - val_loss: 0.0038 - val_accuracy: 0.9994\n",
            "Epoch 79/100\n",
            "4362/4362 - 4s - loss: 0.0032 - accuracy: 0.9994 - val_loss: 0.0035 - val_accuracy: 0.9994\n",
            "Epoch 80/100\n",
            "4362/4362 - 4s - loss: 0.0031 - accuracy: 0.9994 - val_loss: 0.0036 - val_accuracy: 0.9993\n",
            "Epoch 81/100\n",
            "4362/4362 - 4s - loss: 0.0031 - accuracy: 0.9994 - val_loss: 0.0035 - val_accuracy: 0.9994\n",
            "Epoch 82/100\n",
            "4362/4362 - 4s - loss: 0.0032 - accuracy: 0.9994 - val_loss: 0.0034 - val_accuracy: 0.9994\n",
            "Epoch 83/100\n",
            "4362/4362 - 4s - loss: 0.0031 - accuracy: 0.9994 - val_loss: 0.0033 - val_accuracy: 0.9994\n",
            "Epoch 84/100\n",
            "4362/4362 - 4s - loss: 0.0032 - accuracy: 0.9994 - val_loss: 0.0035 - val_accuracy: 0.9994\n",
            "Epoch 85/100\n",
            "4362/4362 - 4s - loss: 0.0032 - accuracy: 0.9994 - val_loss: 0.0035 - val_accuracy: 0.9994\n",
            "Epoch 86/100\n",
            "4362/4362 - 4s - loss: 0.0031 - accuracy: 0.9994 - val_loss: 0.0037 - val_accuracy: 0.9994\n",
            "Epoch 87/100\n",
            "4362/4362 - 4s - loss: 0.0032 - accuracy: 0.9994 - val_loss: 0.0035 - val_accuracy: 0.9993\n",
            "Epoch 88/100\n",
            "4362/4362 - 4s - loss: 0.0032 - accuracy: 0.9994 - val_loss: 0.0034 - val_accuracy: 0.9993\n",
            "Epoch 89/100\n",
            "4362/4362 - 4s - loss: 0.0032 - accuracy: 0.9994 - val_loss: 0.0034 - val_accuracy: 0.9993\n",
            "Epoch 90/100\n",
            "4362/4362 - 4s - loss: 0.0032 - accuracy: 0.9994 - val_loss: 0.0034 - val_accuracy: 0.9994\n",
            "Epoch 91/100\n",
            "4362/4362 - 4s - loss: 0.0031 - accuracy: 0.9994 - val_loss: 0.0035 - val_accuracy: 0.9994\n",
            "Epoch 92/100\n",
            "4362/4362 - 4s - loss: 0.0032 - accuracy: 0.9994 - val_loss: 0.0035 - val_accuracy: 0.9994\n",
            "Epoch 93/100\n",
            "4362/4362 - 4s - loss: 0.0031 - accuracy: 0.9994 - val_loss: 0.0034 - val_accuracy: 0.9993\n",
            "Epoch 94/100\n",
            "4362/4362 - 4s - loss: 0.0031 - accuracy: 0.9994 - val_loss: 0.0035 - val_accuracy: 0.9993\n",
            "Epoch 95/100\n",
            "4362/4362 - 4s - loss: 0.0031 - accuracy: 0.9994 - val_loss: 0.0034 - val_accuracy: 0.9993\n",
            "Epoch 96/100\n",
            "4362/4362 - 4s - loss: 0.0030 - accuracy: 0.9994 - val_loss: 0.0040 - val_accuracy: 0.9994\n",
            "Epoch 97/100\n",
            "4362/4362 - 4s - loss: 0.0032 - accuracy: 0.9994 - val_loss: 0.0035 - val_accuracy: 0.9993\n",
            "Epoch 98/100\n",
            "4362/4362 - 4s - loss: 0.0031 - accuracy: 0.9994 - val_loss: 0.0036 - val_accuracy: 0.9994\n",
            "Epoch 99/100\n",
            "4362/4362 - 4s - loss: 0.0031 - accuracy: 0.9994 - val_loss: 0.0038 - val_accuracy: 0.9994\n",
            "Epoch 100/100\n",
            "4362/4362 - 4s - loss: 0.0031 - accuracy: 0.9994 - val_loss: 0.0034 - val_accuracy: 0.9994\n"
          ],
          "name": "stdout"
        }
      ]
    },
    {
      "cell_type": "code",
      "metadata": {
        "colab": {
          "base_uri": "https://localhost:8080/"
        },
        "id": "pArSyycZohqp",
        "outputId": "be6c7e00-4c8b-4175-ab79-92df0b867e42"
      },
      "source": [
        "# predict test set\n",
        "pred = model.predict_classes(X_test)\n",
        "# evaluate predictions\n",
        "score = accuracy_score(Y_test, pred)\n",
        "print(score)"
      ],
      "execution_count": 19,
      "outputs": [
        {
          "output_type": "stream",
          "text": [
            "/usr/local/lib/python3.7/dist-packages/tensorflow/python/keras/engine/sequential.py:450: UserWarning: `model.predict_classes()` is deprecated and will be removed after 2021-01-01. Please use instead:* `np.argmax(model.predict(x), axis=-1)`,   if your model does multi-class classification   (e.g. if it uses a `softmax` last-layer activation).* `(model.predict(x) > 0.5).astype(\"int32\")`,   if your model does binary classification   (e.g. if it uses a `sigmoid` last-layer activation).\n",
            "  warnings.warn('`model.predict_classes()` is deprecated and '\n"
          ],
          "name": "stderr"
        },
        {
          "output_type": "stream",
          "text": [
            "0.9995084442259752\n"
          ],
          "name": "stdout"
        }
      ]
    },
    {
      "cell_type": "code",
      "metadata": {
        "id": "gSAjKz6Fohtu"
      },
      "source": [
        ""
      ],
      "execution_count": null,
      "outputs": []
    }
  ]
}